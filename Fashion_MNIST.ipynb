{
  "nbformat": 4,
  "nbformat_minor": 0,
  "metadata": {
    "colab": {
      "name": "Fashion_MNIST.ipynb",
      "provenance": []
    },
    "kernelspec": {
      "display_name": "Python 3",
      "name": "python3"
    },
    "language_info": {
      "name": "python"
    }
  },
  "cells": [
    {
      "cell_type": "code",
      "metadata": {
        "colab": {
          "base_uri": "https://localhost:8080/"
        },
        "id": "_kZIAWR3cAr0",
        "outputId": "bcd3d3c4-222b-4b0b-f6a2-6a47d580c9d9"
      },
      "source": [
        "import tensorflow as tf\n",
        "import numpy as np\n",
        "import matplotlib.pyplot as plt\n",
        "from sklearn.preprocessing import OneHotEncoder\n",
        "\n",
        "(x_train, y_train), (x_test, y_test) = tf.keras.datasets.fashion_mnist.load_data()\n",
        "print(\"x_train shape:\", x_train.shape, \"y_train shape:\", y_train.shape)"
      ],
      "execution_count": null,
      "outputs": [
        {
          "output_type": "stream",
          "text": [
            "x_train shape: (60000, 28, 28) y_train shape: (60000,)\n"
          ],
          "name": "stdout"
        }
      ]
    },
    {
      "cell_type": "code",
      "metadata": {
        "colab": {
          "base_uri": "https://localhost:8080/"
        },
        "id": "uO_xnS5btvqr",
        "outputId": "cf4cd07e-481d-4b11-9622-1d63c2214494"
      },
      "source": [
        "print(x_test.shape, y_test.shape)"
      ],
      "execution_count": null,
      "outputs": [
        {
          "output_type": "stream",
          "text": [
            "(10000, 28, 28) (10000,)\n"
          ],
          "name": "stdout"
        }
      ]
    },
    {
      "cell_type": "code",
      "metadata": {
        "colab": {
          "base_uri": "https://localhost:8080/"
        },
        "id": "EZ0S4N2rc-78",
        "outputId": "50a4fd96-0e02-4370-df03-19a5206db580"
      },
      "source": [
        "x_train = x_train.astype('float32') / 255\n",
        "x_test = x_test.astype('float32') / 255\n",
        "x_train = np.expand_dims(x_train, -1)\n",
        "x_test = np.expand_dims(x_test, -1)\n",
        "y_train = np.expand_dims(y_train, -1)\n",
        "y_test = np.expand_dims(y_test, -1)\n",
        "print(\"x_train shape:\", x_train.shape)\n",
        "print(x_train.shape[0], \"train samples\")\n",
        "print(x_test.shape[0], \"test samples\")"
      ],
      "execution_count": null,
      "outputs": [
        {
          "output_type": "stream",
          "text": [
            "x_train shape: (60000, 28, 28, 1)\n",
            "60000 train samples\n",
            "10000 test samples\n"
          ],
          "name": "stdout"
        }
      ]
    },
    {
      "cell_type": "code",
      "metadata": {
        "id": "E__CQaHSvn6h"
      },
      "source": [
        "enc = OneHotEncoder(handle_unknown='ignore')\n",
        "y_train_ohe = enc.fit_transform(y_train).toarray()\n",
        "y_test_ohe = enc.transform(y_test).toarray()"
      ],
      "execution_count": null,
      "outputs": []
    },
    {
      "cell_type": "code",
      "metadata": {
        "colab": {
          "base_uri": "https://localhost:8080/"
        },
        "id": "uOxVTH-Nxe1d",
        "outputId": "b92e252c-e9fc-44d3-b5ac-9bc06ecc0589"
      },
      "source": [
        "y_train_ohe.shape"
      ],
      "execution_count": null,
      "outputs": [
        {
          "output_type": "execute_result",
          "data": {
            "text/plain": [
              "(60000, 10)"
            ]
          },
          "metadata": {
            "tags": []
          },
          "execution_count": 5
        }
      ]
    },
    {
      "cell_type": "markdown",
      "metadata": {
        "id": "I5v2U-hed8vs"
      },
      "source": [
        "**CNM DROPOUT-1**"
      ]
    },
    {
      "cell_type": "code",
      "metadata": {
        "id": "lVufHpmCdDVY"
      },
      "source": [
        "model = tf.keras.Sequential()\n",
        "model.add(tf.keras.layers.Conv2D(filters=6, kernel_size=5, padding='same', activation='relu', input_shape=(28,28,1))) \n",
        "model.add(tf.keras.layers.MaxPooling2D(pool_size=2))\n",
        "model.add(tf.keras.layers.Dropout(0.25))\n",
        "model.add(tf.keras.layers.Conv2D(filters=16, kernel_size=5, padding='same', activation='relu'))\n",
        "model.add(tf.keras.layers.MaxPooling2D(pool_size=2))\n",
        "model.add(tf.keras.layers.Dropout(0.25))\n",
        "model.add(tf.keras.layers.Flatten())\n",
        "model.add(tf.keras.layers.Dense(120, activation='relu'))\n",
        "model.add(tf.keras.layers.Dropout(0.5))\n",
        "model.add(tf.keras.layers.Dense(84, activation='relu'))\n",
        "model.add(tf.keras.layers.Dropout(0.5))\n",
        "model.add(tf.keras.layers.Dense(10, activation='softmax'))"
      ],
      "execution_count": null,
      "outputs": []
    },
    {
      "cell_type": "code",
      "metadata": {
        "colab": {
          "base_uri": "https://localhost:8080/"
        },
        "id": "TrincculeGju",
        "outputId": "3bc71dbe-a0a1-4dd0-baa4-28fc129a3288"
      },
      "source": [
        "model.summary()"
      ],
      "execution_count": null,
      "outputs": [
        {
          "output_type": "stream",
          "text": [
            "Model: \"sequential\"\n",
            "_________________________________________________________________\n",
            "Layer (type)                 Output Shape              Param #   \n",
            "=================================================================\n",
            "conv2d (Conv2D)              (None, 28, 28, 6)         156       \n",
            "_________________________________________________________________\n",
            "max_pooling2d (MaxPooling2D) (None, 14, 14, 6)         0         \n",
            "_________________________________________________________________\n",
            "dropout (Dropout)            (None, 14, 14, 6)         0         \n",
            "_________________________________________________________________\n",
            "conv2d_1 (Conv2D)            (None, 14, 14, 16)        2416      \n",
            "_________________________________________________________________\n",
            "max_pooling2d_1 (MaxPooling2 (None, 7, 7, 16)          0         \n",
            "_________________________________________________________________\n",
            "dropout_1 (Dropout)          (None, 7, 7, 16)          0         \n",
            "_________________________________________________________________\n",
            "flatten (Flatten)            (None, 784)               0         \n",
            "_________________________________________________________________\n",
            "dense (Dense)                (None, 120)               94200     \n",
            "_________________________________________________________________\n",
            "dropout_2 (Dropout)          (None, 120)               0         \n",
            "_________________________________________________________________\n",
            "dense_1 (Dense)              (None, 84)                10164     \n",
            "_________________________________________________________________\n",
            "dropout_3 (Dropout)          (None, 84)                0         \n",
            "_________________________________________________________________\n",
            "dense_2 (Dense)              (None, 10)                850       \n",
            "=================================================================\n",
            "Total params: 107,786\n",
            "Trainable params: 107,786\n",
            "Non-trainable params: 0\n",
            "_________________________________________________________________\n"
          ],
          "name": "stdout"
        }
      ]
    },
    {
      "cell_type": "code",
      "metadata": {
        "id": "W8YTtAEWeI0c"
      },
      "source": [
        "model.compile(loss='categorical_crossentropy',\n",
        "             optimizer='adam',\n",
        "             metrics=['accuracy'])"
      ],
      "execution_count": null,
      "outputs": []
    },
    {
      "cell_type": "code",
      "metadata": {
        "id": "82XESQMJwXXh"
      },
      "source": [
        "y_train = y_train.astype('float32')\n",
        "y_test = y_test.astype('float32')"
      ],
      "execution_count": null,
      "outputs": []
    },
    {
      "cell_type": "code",
      "metadata": {
        "colab": {
          "base_uri": "https://localhost:8080/"
        },
        "id": "ERgK63FSwK-t",
        "outputId": "07c447e2-80fd-4263-a06f-01d8eb812074"
      },
      "source": [
        "y_train.shape"
      ],
      "execution_count": null,
      "outputs": [
        {
          "output_type": "execute_result",
          "data": {
            "text/plain": [
              "(60000, 1)"
            ]
          },
          "metadata": {
            "tags": []
          },
          "execution_count": 10
        }
      ]
    },
    {
      "cell_type": "code",
      "metadata": {
        "colab": {
          "base_uri": "https://localhost:8080/"
        },
        "id": "VYp6-PdHeOmb",
        "outputId": "ca88f31a-5688-45b0-eb12-c2d641d059fa"
      },
      "source": [
        "batch_size = 128\n",
        "epochs = 15\n",
        "model.fit(x_train, y_train_ohe, batch_size=batch_size, epochs=epochs)"
      ],
      "execution_count": null,
      "outputs": [
        {
          "output_type": "stream",
          "text": [
            "Epoch 1/15\n",
            "469/469 [==============================] - 42s 88ms/step - loss: 1.3468 - accuracy: 0.4923\n",
            "Epoch 2/15\n",
            "469/469 [==============================] - 41s 88ms/step - loss: 0.6238 - accuracy: 0.7689\n",
            "Epoch 3/15\n",
            "469/469 [==============================] - 41s 88ms/step - loss: 0.5425 - accuracy: 0.8035\n",
            "Epoch 4/15\n",
            "469/469 [==============================] - 42s 89ms/step - loss: 0.5029 - accuracy: 0.8185\n",
            "Epoch 5/15\n",
            "469/469 [==============================] - 41s 88ms/step - loss: 0.4732 - accuracy: 0.8299\n",
            "Epoch 6/15\n",
            "469/469 [==============================] - 40s 86ms/step - loss: 0.4449 - accuracy: 0.8385\n",
            "Epoch 7/15\n",
            "469/469 [==============================] - 40s 86ms/step - loss: 0.4277 - accuracy: 0.8474\n",
            "Epoch 8/15\n",
            "469/469 [==============================] - 41s 87ms/step - loss: 0.4134 - accuracy: 0.8514\n",
            "Epoch 9/15\n",
            "469/469 [==============================] - 40s 86ms/step - loss: 0.3952 - accuracy: 0.8583\n",
            "Epoch 10/15\n",
            "469/469 [==============================] - 41s 86ms/step - loss: 0.3832 - accuracy: 0.8651\n",
            "Epoch 11/15\n",
            "469/469 [==============================] - 40s 86ms/step - loss: 0.3868 - accuracy: 0.8615\n",
            "Epoch 12/15\n",
            "469/469 [==============================] - 41s 86ms/step - loss: 0.3684 - accuracy: 0.8714\n",
            "Epoch 13/15\n",
            "469/469 [==============================] - 41s 87ms/step - loss: 0.3588 - accuracy: 0.8709\n",
            "Epoch 14/15\n",
            "469/469 [==============================] - 40s 86ms/step - loss: 0.3611 - accuracy: 0.8699\n",
            "Epoch 15/15\n",
            "469/469 [==============================] - 40s 86ms/step - loss: 0.3589 - accuracy: 0.8723\n"
          ],
          "name": "stdout"
        },
        {
          "output_type": "execute_result",
          "data": {
            "text/plain": [
              "<tensorflow.python.keras.callbacks.History at 0x7fb1af481790>"
            ]
          },
          "metadata": {
            "tags": []
          },
          "execution_count": 11
        }
      ]
    },
    {
      "cell_type": "code",
      "metadata": {
        "colab": {
          "base_uri": "https://localhost:8080/"
        },
        "id": "OfVYtfhK0BP1",
        "outputId": "0e0718a2-0308-425a-bf57-061957d10e9f"
      },
      "source": [
        "pred = model.predict(x_test)\n",
        "pred_sing = np.argmax(pred, axis=1)\n",
        "pred_sing"
      ],
      "execution_count": null,
      "outputs": [
        {
          "output_type": "execute_result",
          "data": {
            "text/plain": [
              "array([9, 2, 1, ..., 8, 1, 5])"
            ]
          },
          "metadata": {
            "tags": []
          },
          "execution_count": 15
        }
      ]
    },
    {
      "cell_type": "code",
      "metadata": {
        "colab": {
          "base_uri": "https://localhost:8080/"
        },
        "id": "7wKq5I3_2JaK",
        "outputId": "528b1b25-805d-4e9c-c7c2-693d3b92a6ba"
      },
      "source": [
        "from sklearn.metrics import accuracy_score\n",
        "print(accuracy_score(pred_sing, y_test))"
      ],
      "execution_count": null,
      "outputs": [
        {
          "output_type": "stream",
          "text": [
            "0.8933\n"
          ],
          "name": "stdout"
        }
      ]
    },
    {
      "cell_type": "markdown",
      "metadata": {
        "id": "gpNjXv_EimP-"
      },
      "source": [
        "**CNN DROPOUT-3**"
      ]
    },
    {
      "cell_type": "code",
      "metadata": {
        "id": "ZorcqMVteRV3"
      },
      "source": [
        "model3 = tf.keras.Sequential()\n",
        "model3.add(tf.keras.layers.Conv2D(filters=6, kernel_size=5, padding='same', activation='relu', input_shape=(28,28,1))) \n",
        "model3.add(tf.keras.layers.MaxPooling2D(pool_size=2))\n",
        "model3.add(tf.keras.layers.Dropout(0.18))\n",
        "model3.add(tf.keras.layers.Conv2D(filters=16, kernel_size=5, padding='same', activation='relu'))\n",
        "model3.add(tf.keras.layers.MaxPooling2D(pool_size=2))\n",
        "model3.add(tf.keras.layers.Dropout(0.18))\n",
        "model3.add(tf.keras.layers.Flatten())\n",
        "model3.add(tf.keras.layers.Dense(120, activation='relu'))\n",
        "model3.add(tf.keras.layers.Dropout(0.25))\n",
        "model3.add(tf.keras.layers.Dense(84, activation='relu'))\n",
        "model3.add(tf.keras.layers.Dropout(0.25))\n",
        "model3.add(tf.keras.layers.Dense(10, activation='softmax'))"
      ],
      "execution_count": null,
      "outputs": []
    },
    {
      "cell_type": "code",
      "metadata": {
        "colab": {
          "base_uri": "https://localhost:8080/"
        },
        "id": "4wmsFwcLoXqz",
        "outputId": "9d39b63d-9eb4-4148-baf3-f21db1b99700"
      },
      "source": [
        "model3.summary()"
      ],
      "execution_count": null,
      "outputs": [
        {
          "output_type": "stream",
          "text": [
            "Model: \"sequential_2\"\n",
            "_________________________________________________________________\n",
            "Layer (type)                 Output Shape              Param #   \n",
            "=================================================================\n",
            "conv2d_7 (Conv2D)            (None, 28, 28, 6)         156       \n",
            "_________________________________________________________________\n",
            "max_pooling2d_4 (MaxPooling2 (None, 14, 14, 6)         0         \n",
            "_________________________________________________________________\n",
            "dropout_9 (Dropout)          (None, 14, 14, 6)         0         \n",
            "_________________________________________________________________\n",
            "conv2d_8 (Conv2D)            (None, 14, 14, 16)        2416      \n",
            "_________________________________________________________________\n",
            "max_pooling2d_5 (MaxPooling2 (None, 7, 7, 16)          0         \n",
            "_________________________________________________________________\n",
            "dropout_10 (Dropout)         (None, 7, 7, 16)          0         \n",
            "_________________________________________________________________\n",
            "flatten_2 (Flatten)          (None, 784)               0         \n",
            "_________________________________________________________________\n",
            "dense_6 (Dense)              (None, 120)               94200     \n",
            "_________________________________________________________________\n",
            "dropout_11 (Dropout)         (None, 120)               0         \n",
            "_________________________________________________________________\n",
            "dense_7 (Dense)              (None, 84)                10164     \n",
            "_________________________________________________________________\n",
            "dropout_12 (Dropout)         (None, 84)                0         \n",
            "_________________________________________________________________\n",
            "dense_8 (Dense)              (None, 10)                850       \n",
            "=================================================================\n",
            "Total params: 107,786\n",
            "Trainable params: 107,786\n",
            "Non-trainable params: 0\n",
            "_________________________________________________________________\n"
          ],
          "name": "stdout"
        }
      ]
    },
    {
      "cell_type": "code",
      "metadata": {
        "id": "NCbzYKtUi-oZ"
      },
      "source": [
        "model3.compile(loss='categorical_crossentropy',\n",
        "             optimizer='adam',\n",
        "             metrics=['accuracy'])"
      ],
      "execution_count": null,
      "outputs": []
    },
    {
      "cell_type": "code",
      "metadata": {
        "colab": {
          "base_uri": "https://localhost:8080/"
        },
        "id": "AuEe2J9xjCXm",
        "outputId": "2e514f02-e351-4f2b-f20f-8b7510b9d0d5"
      },
      "source": [
        "batch_size = 128\n",
        "epochs = 15\n",
        "model3.fit(x_train, y_train_ohe, batch_size=batch_size, epochs=epochs)"
      ],
      "execution_count": null,
      "outputs": [
        {
          "output_type": "stream",
          "text": [
            "Epoch 1/15\n",
            "469/469 [==============================] - 42s 87ms/step - loss: 1.0824 - accuracy: 0.5937\n",
            "Epoch 2/15\n",
            "469/469 [==============================] - 41s 87ms/step - loss: 0.5125 - accuracy: 0.8126\n",
            "Epoch 3/15\n",
            "469/469 [==============================] - 40s 86ms/step - loss: 0.4318 - accuracy: 0.8428\n",
            "Epoch 4/15\n",
            "469/469 [==============================] - 41s 87ms/step - loss: 0.3950 - accuracy: 0.8557\n",
            "Epoch 5/15\n",
            "469/469 [==============================] - 40s 86ms/step - loss: 0.3623 - accuracy: 0.8676\n",
            "Epoch 6/15\n",
            "469/469 [==============================] - 40s 86ms/step - loss: 0.3491 - accuracy: 0.8713\n",
            "Epoch 7/15\n",
            "469/469 [==============================] - 41s 88ms/step - loss: 0.3388 - accuracy: 0.8743\n",
            "Epoch 8/15\n",
            "469/469 [==============================] - 41s 87ms/step - loss: 0.3246 - accuracy: 0.8812\n",
            "Epoch 9/15\n",
            "469/469 [==============================] - 40s 86ms/step - loss: 0.3106 - accuracy: 0.8844\n",
            "Epoch 10/15\n",
            "469/469 [==============================] - 42s 89ms/step - loss: 0.3034 - accuracy: 0.8866\n",
            "Epoch 11/15\n",
            "469/469 [==============================] - 41s 86ms/step - loss: 0.2944 - accuracy: 0.8929\n",
            "Epoch 12/15\n",
            "469/469 [==============================] - 40s 86ms/step - loss: 0.2898 - accuracy: 0.8924\n",
            "Epoch 13/15\n",
            "469/469 [==============================] - 41s 87ms/step - loss: 0.2854 - accuracy: 0.8953\n",
            "Epoch 14/15\n",
            "469/469 [==============================] - 41s 88ms/step - loss: 0.2847 - accuracy: 0.8943\n",
            "Epoch 15/15\n",
            "469/469 [==============================] - 41s 87ms/step - loss: 0.2758 - accuracy: 0.8987\n"
          ],
          "name": "stdout"
        },
        {
          "output_type": "execute_result",
          "data": {
            "text/plain": [
              "<tensorflow.python.keras.callbacks.History at 0x7fb1ab029310>"
            ]
          },
          "metadata": {
            "tags": []
          },
          "execution_count": 27
        }
      ]
    },
    {
      "cell_type": "code",
      "metadata": {
        "colab": {
          "base_uri": "https://localhost:8080/"
        },
        "id": "Fij1RxJa56uH",
        "outputId": "a9962eb3-fc18-40d2-83be-92b04d015e91"
      },
      "source": [
        "pred = model3.predict(x_test)\n",
        "pred_sing = np.argmax(pred, axis=1)\n",
        "pred_sing"
      ],
      "execution_count": null,
      "outputs": [
        {
          "output_type": "execute_result",
          "data": {
            "text/plain": [
              "array([9, 2, 1, ..., 8, 1, 5])"
            ]
          },
          "metadata": {
            "tags": []
          },
          "execution_count": 28
        }
      ]
    },
    {
      "cell_type": "code",
      "metadata": {
        "colab": {
          "base_uri": "https://localhost:8080/"
        },
        "id": "q84voI735_dZ",
        "outputId": "6fde98de-9503-4626-d610-c3168a04e314"
      },
      "source": [
        "from sklearn.metrics import accuracy_score\n",
        "print(accuracy_score(pred_sing, y_test))"
      ],
      "execution_count": null,
      "outputs": [
        {
          "output_type": "stream",
          "text": [
            "0.9079\n"
          ],
          "name": "stdout"
        }
      ]
    },
    {
      "cell_type": "markdown",
      "metadata": {
        "id": "4vgEIJUJjS9c"
      },
      "source": [
        "**CNN DROPOUT-2**"
      ]
    },
    {
      "cell_type": "code",
      "metadata": {
        "id": "x3_kClfLjNAe"
      },
      "source": [
        "model2 = tf.keras.Sequential()\n",
        "model2.add(tf.keras.layers.Conv2D(filters=6, kernel_size=3, padding='same', activation='relu', input_shape=(28,28,1)))\n",
        "model2.add(tf.keras.layers.Conv2D(filters=6, kernel_size=3, padding='same', activation='relu', input_shape=(28,28,1)))  \n",
        "model2.add(tf.keras.layers.MaxPooling2D(pool_size=2))\n",
        "model2.add(tf.keras.layers.Dropout(0.2))\n",
        "model2.add(tf.keras.layers.Conv2D(filters=12, kernel_size=3, padding='same', activation='relu'))\n",
        "model2.add(tf.keras.layers.Conv2D(filters=12, kernel_size=3, padding='same', activation='relu'))\n",
        "\n",
        "\n",
        "model2.add(tf.keras.layers.MaxPooling2D(pool_size=2))\n",
        "model2.add(tf.keras.layers.Dropout(0.2))\n",
        "model2.add(tf.keras.layers.Conv2D(filters=32, kernel_size=3, padding='same', activation='relu'))\n",
        "model2.add(tf.keras.layers.Dropout(0.2))\n",
        "model2.add(tf.keras.layers.Flatten())\n",
        "model2.add(tf.keras.layers.Dense(120, activation='relu'))\n",
        "model2.add(tf.keras.layers.Dropout(0.25))\n",
        "model2.add(tf.keras.layers.Dense(84, activation='relu'))\n",
        "model2.add(tf.keras.layers.Dropout(0.25))\n",
        "model2.add(tf.keras.layers.Dense(10, activation='softmax'))"
      ],
      "execution_count": null,
      "outputs": []
    },
    {
      "cell_type": "code",
      "metadata": {
        "colab": {
          "base_uri": "https://localhost:8080/"
        },
        "id": "Kxeq2hXOobaZ",
        "outputId": "2458c43e-a451-4520-de2a-42308db0d892"
      },
      "source": [
        "model2.summary()"
      ],
      "execution_count": null,
      "outputs": [
        {
          "output_type": "stream",
          "text": [
            "Model: \"sequential_3\"\n",
            "_________________________________________________________________\n",
            "Layer (type)                 Output Shape              Param #   \n",
            "=================================================================\n",
            "conv2d_9 (Conv2D)            (None, 28, 28, 6)         60        \n",
            "_________________________________________________________________\n",
            "conv2d_10 (Conv2D)           (None, 28, 28, 6)         330       \n",
            "_________________________________________________________________\n",
            "max_pooling2d_6 (MaxPooling2 (None, 14, 14, 6)         0         \n",
            "_________________________________________________________________\n",
            "dropout_13 (Dropout)         (None, 14, 14, 6)         0         \n",
            "_________________________________________________________________\n",
            "conv2d_11 (Conv2D)           (None, 14, 14, 12)        660       \n",
            "_________________________________________________________________\n",
            "conv2d_12 (Conv2D)           (None, 14, 14, 12)        1308      \n",
            "_________________________________________________________________\n",
            "max_pooling2d_7 (MaxPooling2 (None, 7, 7, 12)          0         \n",
            "_________________________________________________________________\n",
            "dropout_14 (Dropout)         (None, 7, 7, 12)          0         \n",
            "_________________________________________________________________\n",
            "conv2d_13 (Conv2D)           (None, 7, 7, 32)          3488      \n",
            "_________________________________________________________________\n",
            "dropout_15 (Dropout)         (None, 7, 7, 32)          0         \n",
            "_________________________________________________________________\n",
            "flatten_3 (Flatten)          (None, 1568)              0         \n",
            "_________________________________________________________________\n",
            "dense_9 (Dense)              (None, 120)               188280    \n",
            "_________________________________________________________________\n",
            "dropout_16 (Dropout)         (None, 120)               0         \n",
            "_________________________________________________________________\n",
            "dense_10 (Dense)             (None, 84)                10164     \n",
            "_________________________________________________________________\n",
            "dropout_17 (Dropout)         (None, 84)                0         \n",
            "_________________________________________________________________\n",
            "dense_11 (Dense)             (None, 10)                850       \n",
            "=================================================================\n",
            "Total params: 205,140\n",
            "Trainable params: 205,140\n",
            "Non-trainable params: 0\n",
            "_________________________________________________________________\n"
          ],
          "name": "stdout"
        }
      ]
    },
    {
      "cell_type": "code",
      "metadata": {
        "id": "haAwaJnNj9ch"
      },
      "source": [
        "model2.compile(loss='categorical_crossentropy',\n",
        "             optimizer='adam',\n",
        "             metrics=['accuracy'])"
      ],
      "execution_count": null,
      "outputs": []
    },
    {
      "cell_type": "code",
      "metadata": {
        "colab": {
          "base_uri": "https://localhost:8080/"
        },
        "id": "AvQQoJRgkAn5",
        "outputId": "47c2dd59-eb67-4ff9-e7be-0072c7ac79e0"
      },
      "source": [
        "batch_size = 128\n",
        "epochs = 15\n",
        "model2.fit(x_train, y_train_ohe, batch_size=batch_size, epochs=epochs)"
      ],
      "execution_count": null,
      "outputs": [
        {
          "output_type": "stream",
          "text": [
            "Epoch 1/15\n",
            "469/469 [==============================] - 65s 137ms/step - loss: 1.0697 - accuracy: 0.6030\n",
            "Epoch 2/15\n",
            "469/469 [==============================] - 64s 136ms/step - loss: 0.4978 - accuracy: 0.8169\n",
            "Epoch 3/15\n",
            "469/469 [==============================] - 63s 135ms/step - loss: 0.4151 - accuracy: 0.8482\n",
            "Epoch 4/15\n",
            "469/469 [==============================] - 65s 138ms/step - loss: 0.3777 - accuracy: 0.8614\n",
            "Epoch 5/15\n",
            "469/469 [==============================] - 64s 137ms/step - loss: 0.3601 - accuracy: 0.8678\n",
            "Epoch 6/15\n",
            "469/469 [==============================] - 65s 138ms/step - loss: 0.3405 - accuracy: 0.8775\n",
            "Epoch 7/15\n",
            "469/469 [==============================] - 65s 138ms/step - loss: 0.3305 - accuracy: 0.8792\n",
            "Epoch 8/15\n",
            "469/469 [==============================] - 65s 138ms/step - loss: 0.3171 - accuracy: 0.8858\n",
            "Epoch 9/15\n",
            "469/469 [==============================] - 65s 138ms/step - loss: 0.3043 - accuracy: 0.8897\n",
            "Epoch 10/15\n",
            "469/469 [==============================] - 65s 139ms/step - loss: 0.2972 - accuracy: 0.8905\n",
            "Epoch 11/15\n",
            "469/469 [==============================] - 65s 138ms/step - loss: 0.2921 - accuracy: 0.8897\n",
            "Epoch 12/15\n",
            "469/469 [==============================] - 65s 138ms/step - loss: 0.2775 - accuracy: 0.8977\n",
            "Epoch 13/15\n",
            "469/469 [==============================] - 65s 138ms/step - loss: 0.2726 - accuracy: 0.8971\n",
            "Epoch 14/15\n",
            "469/469 [==============================] - 63s 135ms/step - loss: 0.2777 - accuracy: 0.8982\n",
            "Epoch 15/15\n",
            "469/469 [==============================] - 64s 137ms/step - loss: 0.2716 - accuracy: 0.9007\n"
          ],
          "name": "stdout"
        },
        {
          "output_type": "execute_result",
          "data": {
            "text/plain": [
              "<tensorflow.python.keras.callbacks.History at 0x7fb1a8ecf710>"
            ]
          },
          "metadata": {
            "tags": []
          },
          "execution_count": 33
        }
      ]
    },
    {
      "cell_type": "code",
      "metadata": {
        "colab": {
          "base_uri": "https://localhost:8080/"
        },
        "id": "rmdxg5Mw-JQ3",
        "outputId": "fa1c38b0-54c0-4119-c44e-a52a0f9564f4"
      },
      "source": [
        "pred = model2.predict(x_test)\n",
        "pred_sing = np.argmax(pred, axis=1)\n",
        "pred_sing\n",
        "from sklearn.metrics import accuracy_score\n",
        "print(accuracy_score(pred_sing, y_test))"
      ],
      "execution_count": null,
      "outputs": [
        {
          "output_type": "stream",
          "text": [
            "0.9091\n"
          ],
          "name": "stdout"
        }
      ]
    },
    {
      "cell_type": "markdown",
      "metadata": {
        "id": "5NUSstIN5ZUt"
      },
      "source": [
        "**CNN Simple**"
      ]
    },
    {
      "cell_type": "code",
      "metadata": {
        "id": "CPmc4_v7kIWF"
      },
      "source": [
        "models = tf.keras.Sequential()\n",
        "models.add(tf.keras.layers.Conv2D(filters=6, kernel_size=5, padding='same', activation='relu', input_shape=(28,28,1))) \n",
        "models.add(tf.keras.layers.Conv2D(filters=12, kernel_size=5, padding='same', activation='relu', input_shape=(28,28,1))) \n",
        "models.add(tf.keras.layers.MaxPooling2D(pool_size=2))\n",
        "models.add(tf.keras.layers.Dropout(0.25))\n",
        "models.add(tf.keras.layers.Flatten())\n",
        "models.add(tf.keras.layers.Dense(90, activation='relu'))\n",
        "models.add(tf.keras.layers.Dropout(0.25))\n",
        "models.add(tf.keras.layers.Dense(10, activation='softmax'))"
      ],
      "execution_count": null,
      "outputs": []
    },
    {
      "cell_type": "code",
      "metadata": {
        "colab": {
          "base_uri": "https://localhost:8080/"
        },
        "id": "zsonWm0nofUY",
        "outputId": "6655d5ea-edd3-4ca3-93e9-3252fcc05bf5"
      },
      "source": [
        "models.summary()"
      ],
      "execution_count": null,
      "outputs": [
        {
          "output_type": "stream",
          "text": [
            "Model: \"sequential_4\"\n",
            "_________________________________________________________________\n",
            "Layer (type)                 Output Shape              Param #   \n",
            "=================================================================\n",
            "conv2d_14 (Conv2D)           (None, 28, 28, 6)         156       \n",
            "_________________________________________________________________\n",
            "conv2d_15 (Conv2D)           (None, 28, 28, 12)        1812      \n",
            "_________________________________________________________________\n",
            "max_pooling2d_8 (MaxPooling2 (None, 14, 14, 12)        0         \n",
            "_________________________________________________________________\n",
            "dropout_18 (Dropout)         (None, 14, 14, 12)        0         \n",
            "_________________________________________________________________\n",
            "flatten_4 (Flatten)          (None, 2352)              0         \n",
            "_________________________________________________________________\n",
            "dense_12 (Dense)             (None, 90)                211770    \n",
            "_________________________________________________________________\n",
            "dropout_19 (Dropout)         (None, 90)                0         \n",
            "_________________________________________________________________\n",
            "dense_13 (Dense)             (None, 10)                910       \n",
            "=================================================================\n",
            "Total params: 214,648\n",
            "Trainable params: 214,648\n",
            "Non-trainable params: 0\n",
            "_________________________________________________________________\n"
          ],
          "name": "stdout"
        }
      ]
    },
    {
      "cell_type": "code",
      "metadata": {
        "id": "ykVTvddgly1e"
      },
      "source": [
        "models.compile(loss='categorical_crossentropy',\n",
        "             optimizer='adam',\n",
        "             metrics=['accuracy'])"
      ],
      "execution_count": null,
      "outputs": []
    },
    {
      "cell_type": "code",
      "metadata": {
        "colab": {
          "background_save": true,
          "base_uri": "https://localhost:8080/"
        },
        "id": "jS7l2-WDlrs1",
        "outputId": "057fb8a8-a01d-4d94-f8cc-80642b1b7162"
      },
      "source": [
        "batch_size = 128\n",
        "epochs = 15\n",
        "models.fit(x_train, y_train_ohe, batch_size=batch_size, epochs=epochs)"
      ],
      "execution_count": null,
      "outputs": [
        {
          "output_type": "stream",
          "text": [
            "Epoch 1/15\n",
            "469/469 [==============================] - 79s 167ms/step - loss: 0.8234 - accuracy: 0.7061\n",
            "Epoch 2/15\n",
            "469/469 [==============================] - 79s 169ms/step - loss: 0.3735 - accuracy: 0.8648\n",
            "Epoch 3/15\n",
            "469/469 [==============================] - 78s 166ms/step - loss: 0.3243 - accuracy: 0.8809\n",
            "Epoch 4/15\n",
            "469/469 [==============================] - 78s 165ms/step - loss: 0.2874 - accuracy: 0.8925\n",
            "Epoch 5/15\n",
            "469/469 [==============================] - 75s 159ms/step - loss: 0.2683 - accuracy: 0.9011\n",
            "Epoch 6/15\n",
            "469/469 [==============================] - 74s 158ms/step - loss: 0.2495 - accuracy: 0.9076\n",
            "Epoch 7/15\n",
            "469/469 [==============================] - 77s 164ms/step - loss: 0.2288 - accuracy: 0.9156\n",
            "Epoch 8/15\n",
            "469/469 [==============================] - 75s 160ms/step - loss: 0.2210 - accuracy: 0.9178\n",
            "Epoch 9/15\n",
            "469/469 [==============================] - 77s 164ms/step - loss: 0.2098 - accuracy: 0.9205\n",
            "Epoch 10/15\n",
            "469/469 [==============================] - 76s 162ms/step - loss: 0.2015 - accuracy: 0.9250\n",
            "Epoch 11/15\n",
            "469/469 [==============================] - 76s 163ms/step - loss: 0.1911 - accuracy: 0.9279\n",
            "Epoch 12/15\n",
            "469/469 [==============================] - 76s 162ms/step - loss: 0.1822 - accuracy: 0.9303\n",
            "Epoch 13/15\n",
            "469/469 [==============================] - 75s 160ms/step - loss: 0.1815 - accuracy: 0.9320\n",
            "Epoch 14/15\n",
            "469/469 [==============================] - 75s 160ms/step - loss: 0.1713 - accuracy: 0.9356\n",
            "Epoch 15/15\n",
            "469/469 [==============================] - 75s 160ms/step - loss: 0.1616 - accuracy: 0.9397\n"
          ],
          "name": "stdout"
        },
        {
          "output_type": "execute_result",
          "data": {
            "text/plain": [
              "<tensorflow.python.keras.callbacks.History at 0x7fb1a749a550>"
            ]
          },
          "metadata": {
            "tags": []
          },
          "execution_count": 0
        }
      ]
    },
    {
      "cell_type": "code",
      "metadata": {
        "id": "y5YyrBjUl0V9"
      },
      "source": [
        "pred = models.predict(x_test)\n",
        "pred_sing = np.argmax(pred, axis=1)\n",
        "pred_sing\n",
        "from sklearn.metrics import accuracy_score\n",
        "print(accuracy_score(pred_sing, y_test))"
      ],
      "execution_count": null,
      "outputs": []
    }
  ]
}